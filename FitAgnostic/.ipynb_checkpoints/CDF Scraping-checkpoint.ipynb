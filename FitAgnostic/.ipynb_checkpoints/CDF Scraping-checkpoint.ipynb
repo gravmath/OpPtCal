{
 "cells": [
  {
   "cell_type": "code",
   "execution_count": 2,
   "metadata": {
    "collapsed": false
   },
   "outputs": [],
   "source": [
    "import shutil\n",
    "from ipy             import *\n",
    "from FPI_util_funcs  import *\n",
    "from OpPt_util_funcs import *\n",
    "%matplotlib inline"
   ]
  },
  {
   "cell_type": "code",
   "execution_count": 3,
   "metadata": {
    "collapsed": false
   },
   "outputs": [],
   "source": [
    "unit        = 'FM210'\n",
    "head0       = 'H0'\n",
    "head1       = 'H1'\n",
    "start_orb   = 560\n",
    "end_orb     = 1000\n",
    "obs, bay    = serial_num_to_sc(unit)\n",
    "\n",
    "Thrsh_V_str = '%s_%s_ThrshV'       % (obs, bay)\n",
    "Counts0_str = '%s_%s_counts_Head0' % (obs, bay)\n",
    "Counts1_str = '%s_%s_counts_Head1' % (obs, bay)"
   ]
  },
  {
   "cell_type": "code",
   "execution_count": null,
   "metadata": {
    "collapsed": false
   },
   "outputs": [],
   "source": [
    "base_dir = 'x:/data/ftp/mms4/fpi/cal/OpPtCal/'\n",
    "my_list1 = find_oppt_CDFs(base_dir,start_orb,end_orb,unit)"
   ]
  },
  {
   "cell_type": "code",
   "execution_count": null,
   "metadata": {
    "collapsed": false
   },
   "outputs": [],
   "source": [
    "Energy_list = ['Energy'+str(i) for i in range(8)]\n",
    "for m in my_list1:\n",
    "    skippy  = pycdf.CDF(m)\n",
    "    mode    = skippy.attrs[22][0]\n",
    "    ThrshV  = np.asarray(skippy[Thrsh_V_str])\n",
    "    Counts0 = np.asarray(skippy[Counts0_str])\n",
    "    Counts1 = np.asarray(skippy[Counts1_str])\n",
    "    skippy.close()\n",
    "    SweepV  = ThrshV[0:16]\n",
    "    C0      = create_OpPt_Dict(Counts0)\n",
    "    C1      = create_OpPt_Dict(Counts1)\n",
    "    orbit   = get_orb_number(m)\n",
    "    for e in Energy_list:\n",
    "        title = 'Pixel Sweep Plot for %s%s on orbit %s for energy %s at %s mode' % (unit, head0, orbit, e, mode)\n",
    "        fname = 'c:/users/cschiff/%s%s_Sweep_%s_%s_%s.png' % (unit, head0, orbit, e, mode)\n",
    "        stat_plot_energy(SweepV,C0,e,title,fname)\n",
    "        title = 'Pixel Sweep Plot for %s%s on orbit %s for energy %s at %s mode' % (unit, head1, orbit, e, mode)\n",
    "        fname = 'c:/users/cschiff/%s%s_Sweep_%s_%s_%s.png' % (unit, head1, orbit, e, mode)\n",
    "        stat_plot_energy(SweepV,C1,e,title,fname)"
   ]
  },
  {
   "cell_type": "code",
   "execution_count": 4,
   "metadata": {
    "collapsed": false
   },
   "outputs": [
    {
     "data": {
      "text/plain": [
       "['x:/data/ftp/mms4/fpi/cal/OpPtCal/0567_20160927_0756-20160928_0749/cdf/OpPt/mms4_des1_engr_l1_sigthrsh_20160927075614_v1.2.0.cdf',\n",
       " 'x:/data/ftp/mms4/fpi/cal/OpPtCal/0567_20160927_0756-20160928_0749/cdf/OpPt+50/mms4_des1_engr_l1_sigthrsh_20160927075614_v1.2.0.cdf',\n",
       " 'x:/data/ftp/mms4/fpi/cal/OpPtCal/0569_20160929_0742-20160930_0735/cdf/OpPt+50/mms4_des1_engr_l1_sigthrsh_20160929074207_v1.2.0.cdf',\n",
       " 'x:/data/ftp/mms4/fpi/cal/OpPtCal/0569_20160929_0742-20160930_0735/cdf/OpPt/mms4_des1_engr_l1_sigthrsh_20160929074207_v1.2.0.cdf',\n",
       " 'x:/data/ftp/mms4/fpi/cal/OpPtCal/0571_20161001_0727-20161002_0720/cdf/OpPt+50/mms4_des1_engr_l1_sigthrsh_20161001072751_v1.2.0.cdf',\n",
       " 'x:/data/ftp/mms4/fpi/cal/OpPtCal/0571_20161001_0727-20161002_0720/cdf/OpPt+50/mms4_des1_engr_l1_sigthrsh_20161001072751_v1.3.0.cdf',\n",
       " 'x:/data/ftp/mms4/fpi/cal/OpPtCal/0571_20161001_0727-20161002_0720/cdf/OpPt/mms4_des1_engr_l1_sigthrsh_20161001072751_v1.2.0.cdf',\n",
       " 'x:/data/ftp/mms4/fpi/cal/OpPtCal/0571_20161001_0727-20161002_0720/cdf/OpPt/mms4_des1_engr_l1_sigthrsh_20161001072751_v1.3.0.cdf',\n",
       " 'x:/data/ftp/mms4/fpi/cal/OpPtCal/0573_20161003_0713-20161004_0706/cdf/OpPt+50/mms4_des1_engr_l1_sigthrsh_20161003071337_v1.3.0.cdf',\n",
       " 'x:/data/ftp/mms4/fpi/cal/OpPtCal/0573_20161003_0713-20161004_0706/cdf/OpPt/mms4_des1_engr_l1_sigthrsh_20161003071337_v1.3.0.cdf',\n",
       " 'x:/data/ftp/mms4/fpi/cal/OpPtCal/0575_20161005_0659-20161006_0652/cdf/OpPt+50/mms4_des1_engr_l1_sigthrsh_20161005065935_v1.3.0.cdf',\n",
       " 'x:/data/ftp/mms4/fpi/cal/OpPtCal/0575_20161005_0659-20161006_0652/cdf/OpPt/mms4_des1_engr_l1_sigthrsh_20161005065935_v1.3.0.cdf',\n",
       " 'x:/data/ftp/mms4/fpi/cal/OpPtCal/0577_20161007_0645-20161008_0639/cdf/OpPt+50/mms4_des1_engr_l1_sigthrsh_20161007064549_v1.3.0.cdf',\n",
       " 'x:/data/ftp/mms4/fpi/cal/OpPtCal/0577_20161007_0645-20161008_0639/cdf/OpPt/mms4_des1_engr_l1_sigthrsh_20161007064549_v1.3.0.cdf',\n",
       " 'x:/data/ftp/mms4/fpi/cal/OpPtCal/0579_20161009_0632-20161010_0625/cdf/OpPt+50/mms4_des1_engr_l1_sigthrsh_20161009063211_v1.3.0.cdf',\n",
       " 'x:/data/ftp/mms4/fpi/cal/OpPtCal/0579_20161009_0632-20161010_0625/cdf/OpPt/mms4_des1_engr_l1_sigthrsh_20161009063211_v1.3.0.cdf',\n",
       " 'x:/data/ftp/mms4/fpi/cal/OpPtCal/0581_20161011_0618-20161012_0611/cdf/OpPt+50/mms4_des1_engr_l1_sigthrsh_20161011061818_v1.3.0.cdf',\n",
       " 'x:/data/ftp/mms4/fpi/cal/OpPtCal/0581_20161011_0618-20161012_0611/cdf/OpPt/mms4_des1_engr_l1_sigthrsh_20161011061818_v1.3.0.cdf',\n",
       " 'x:/data/ftp/mms4/fpi/cal/OpPtCal/0583_20161013_0604-20161014_0557/cdf/OpPt+50/mms4_des1_engr_l1_sigthrsh_20161013060412_v1.3.0.cdf',\n",
       " 'x:/data/ftp/mms4/fpi/cal/OpPtCal/0583_20161013_0604-20161014_0557/cdf/OpPt/mms4_des1_engr_l1_sigthrsh_20161013060412_v1.3.0.cdf',\n",
       " 'x:/data/ftp/mms4/fpi/cal/OpPtCal/0585_20161015_0549-20161016_0542/cdf/OpPt+50/mms4_des1_engr_l1_sigthrsh_20161015054952_v1.3.0.cdf',\n",
       " 'x:/data/ftp/mms4/fpi/cal/OpPtCal/0585_20161015_0549-20161016_0542/cdf/OpPt/mms4_des1_engr_l1_sigthrsh_20161015054952_v1.3.0.cdf',\n",
       " 'x:/data/ftp/mms4/fpi/cal/OpPtCal/0587_20161017_0535-20161018_0528/cdf/OpPt+50/mms4_des1_engr_l1_sigthrsh_20161017053540_v1.3.0.cdf',\n",
       " 'x:/data/ftp/mms4/fpi/cal/OpPtCal/0587_20161017_0535-20161018_0528/cdf/OpPt/mms4_des1_engr_l1_sigthrsh_20161017053540_v1.3.0.cdf',\n",
       " 'x:/data/ftp/mms4/fpi/cal/OpPtCal/0589_20161019_0521-20161020_0514/cdf/OpPt/mms4_des1_engr_l1_sigthrsh_20161019052146_v1.3.0.cdf',\n",
       " 'x:/data/ftp/mms4/fpi/cal/OpPtCal/0589_20161019_0521-20161020_0514/cdf/OpPt+50/mms4_des1_engr_l1_sigthrsh_20161019052146_v1.3.0.cdf',\n",
       " 'x:/data/ftp/mms4/fpi/cal/OpPtCal/0591_20161021_0508-20161022_0501/cdf/OpPt/mms4_des1_engr_l1_sigthrsh_20161021050801_v1.3.0.cdf',\n",
       " 'x:/data/ftp/mms4/fpi/cal/OpPtCal/0591_20161021_0508-20161022_0501/cdf/OpPt+50/mms4_des1_engr_l1_sigthrsh_20161021050801_v1.3.0.cdf',\n",
       " 'x:/data/ftp/mms4/fpi/cal/OpPtCal/0593_20161023_0454-20161024_0447/cdf/OpPt/mms4_des1_engr_l1_sigthrsh_20161023045414_v1.3.0.cdf',\n",
       " 'x:/data/ftp/mms4/fpi/cal/OpPtCal/0593_20161023_0454-20161024_0447/cdf/OpPt+50/mms4_des1_engr_l1_sigthrsh_20161023045414_v1.3.0.cdf',\n",
       " 'x:/data/ftp/mms4/fpi/cal/OpPtCal/0595_20161025_0440-20161026_0433/cdf/OpPt/mms4_des1_engr_l1_sigthrsh_20161025044017_v1.3.0.cdf',\n",
       " 'x:/data/ftp/mms4/fpi/cal/OpPtCal/0595_20161025_0440-20161026_0433/cdf/OpPt+50/mms4_des1_engr_l1_sigthrsh_20161025044017_v1.3.0.cdf',\n",
       " 'x:/data/ftp/mms4/fpi/cal/OpPtCal/0597_20161027_0426-20161028_0418/cdf/OpPt/mms4_des1_engr_l1_sigthrsh_20161027042607_v1.3.0.cdf',\n",
       " 'x:/data/ftp/mms4/fpi/cal/OpPtCal/0597_20161027_0426-20161028_0418/cdf/OpPt+50/mms4_des1_engr_l1_sigthrsh_20161027042607_v1.3.0.cdf',\n",
       " 'x:/data/ftp/mms4/fpi/cal/OpPtCal/0599_20161029_0411-20161030_0404/cdf/OpPt/mms4_des1_engr_l1_sigthrsh_20161029041152_v1.3.0.cdf',\n",
       " 'x:/data/ftp/mms4/fpi/cal/OpPtCal/0599_20161029_0411-20161030_0404/cdf/OpPt+50/mms4_des1_engr_l1_sigthrsh_20161029041152_v1.3.0.cdf',\n",
       " 'x:/data/ftp/mms4/fpi/cal/OpPtCal/0601_20161031_0357-20161101_0350/cdf/OpPt/mms4_des1_engr_l1_sigthrsh_20161031035740_v1.3.0.cdf',\n",
       " 'x:/data/ftp/mms4/fpi/cal/OpPtCal/0601_20161031_0357-20161101_0350/cdf/OpPt+50/mms4_des1_engr_l1_sigthrsh_20161031035740_v1.3.0.cdf',\n",
       " 'x:/data/ftp/mms4/fpi/cal/OpPtCal/0603_20161102_0343-20161103_0336/cdf/OpPt/mms4_des1_engr_l1_sigthrsh_20161102034342_v1.3.0.cdf',\n",
       " 'x:/data/ftp/mms4/fpi/cal/OpPtCal/0603_20161102_0343-20161103_0336/cdf/OpPt+50/mms4_des1_engr_l1_sigthrsh_20161102034342_v1.3.0.cdf',\n",
       " 'x:/data/ftp/mms4/fpi/cal/OpPtCal/0605_20161104_0330-20161105_0323/cdf/OpPt/mms4_des1_engr_l1_sigthrsh_20161104033000_v1.3.0.cdf',\n",
       " 'x:/data/ftp/mms4/fpi/cal/OpPtCal/0605_20161104_0330-20161105_0323/cdf/OpPt+50/mms4_des1_engr_l1_sigthrsh_20161104033000_v1.3.0.cdf']"
      ]
     },
     "execution_count": 4,
     "metadata": {},
     "output_type": "execute_result"
    }
   ],
   "source": [
    "def sum_counts(Counts_array):\n",
    "    "
   ]
  },
  {
   "cell_type": "code",
   "execution_count": 5,
   "metadata": {
    "collapsed": false
   },
   "outputs": [],
   "source": [
    "type_pattern = re.compile('.*(OpPt\\+50).*')"
   ]
  },
  {
   "cell_type": "code",
   "execution_count": 16,
   "metadata": {
    "collapsed": false
   },
   "outputs": [],
   "source": [
    "for f in my_list1:\n",
    "    if type_pattern.match(f):\n",
    "        shutil.copy(f,'c:/yuggoth/test/Op+50')\n",
    "    else:\n",
    "        shutil.copy(f,'c:/yuggoth/test/Op')"
   ]
  },
  {
   "cell_type": "code",
   "execution_count": 5,
   "metadata": {
    "collapsed": false
   },
   "outputs": [],
   "source": [
    "skippy = pycdf.CDF(my_list1[0])"
   ]
  },
  {
   "cell_type": "code",
   "execution_count": 6,
   "metadata": {
    "collapsed": false
   },
   "outputs": [
    {
     "data": {
      "text/plain": [
       "['Epoch',\n",
       " 'mms4_des1_CIDPside',\n",
       " 'mms4_des1_MCPvlt_Head0',\n",
       " 'mms4_des1_MCPvlt_Head1',\n",
       " 'mms4_des1_ESAvlt',\n",
       " 'mms4_des1_ThrshV',\n",
       " 'mms4_des1_HKaddr',\n",
       " 'mms4_des1_HKdata',\n",
       " 'mms4_des1_HKconv',\n",
       " 'mms4_des1_counts_Head0',\n",
       " 'mms4_des1_counts_Head1',\n",
       " 'mms4_des1_pixel_index',\n",
       " 'mms4_des1_testConfig',\n",
       " 'mms4_des1_thresh_index',\n",
       " 'mms4_des1_energy_index',\n",
       " 'mms4_des1_iteration_index']"
      ]
     },
     "execution_count": 6,
     "metadata": {},
     "output_type": "execute_result"
    }
   ],
   "source": [
    "skippy.keys()"
   ]
  },
  {
   "cell_type": "code",
   "execution_count": 7,
   "metadata": {
    "collapsed": false
   },
   "outputs": [],
   "source": [
    "ThrshV  = np.asarray(skippy['mms4_des1_ThrshV'])\n",
    "Counts0 = np.asarray(skippy['mms4_des1_counts_Head0'])"
   ]
  },
  {
   "cell_type": "code",
   "execution_count": 10,
   "metadata": {
    "collapsed": false
   },
   "outputs": [],
   "source": [
    "A = create_OpPt_Dict(Counts0)"
   ]
  },
  {
   "cell_type": "code",
   "execution_count": 22,
   "metadata": {
    "collapsed": false
   },
   "outputs": [
    {
     "data": {
      "text/plain": [
       "array([504, 470, 397, 337, 278, 237, 225, 192, 148, 138, 117, 115,  97,\n",
       "        92,  78,  86], dtype=uint16)"
      ]
     },
     "execution_count": 22,
     "metadata": {},
     "output_type": "execute_result"
    }
   ],
   "source": [
    "A['Pixel14']['Energy0'][2]"
   ]
  },
  {
   "cell_type": "code",
   "execution_count": 14,
   "metadata": {
    "collapsed": false
   },
   "outputs": [
    {
     "data": {
      "text/plain": [
       "[<matplotlib.lines.Line2D at 0x849d710>,\n",
       " <matplotlib.lines.Line2D at 0x849d8d0>,\n",
       " <matplotlib.lines.Line2D at 0x849d9e8>,\n",
       " <matplotlib.lines.Line2D at 0x849db00>,\n",
       " <matplotlib.lines.Line2D at 0x849dc18>,\n",
       " <matplotlib.lines.Line2D at 0x849dd30>,\n",
       " <matplotlib.lines.Line2D at 0x849de48>,\n",
       " <matplotlib.lines.Line2D at 0x8300fd0>,\n",
       " <matplotlib.lines.Line2D at 0x84af0b8>,\n",
       " <matplotlib.lines.Line2D at 0x84af1d0>,\n",
       " <matplotlib.lines.Line2D at 0x84af2e8>,\n",
       " <matplotlib.lines.Line2D at 0x84af400>,\n",
       " <matplotlib.lines.Line2D at 0x84af518>,\n",
       " <matplotlib.lines.Line2D at 0x84af630>,\n",
       " <matplotlib.lines.Line2D at 0x849df60>,\n",
       " <matplotlib.lines.Line2D at 0x84af860>]"
      ]
     },
     "execution_count": 14,
     "metadata": {},
     "output_type": "execute_result"
    }
   ],
   "source": [
    "plt.plot(ThrshV,Counts0)"
   ]
  },
  {
   "cell_type": "code",
   "execution_count": 44,
   "metadata": {
    "collapsed": false
   },
   "outputs": [
    {
     "data": {
      "text/plain": [
       "array([1231, 1194,  889, ...,  268,  245,  195], dtype=uint16)"
      ]
     },
     "execution_count": 44,
     "metadata": {},
     "output_type": "execute_result"
    }
   ],
   "source": [
    "Counts0[:,0]"
   ]
  },
  {
   "cell_type": "code",
   "execution_count": 10,
   "metadata": {
    "collapsed": false
   },
   "outputs": [
    {
     "data": {
      "text/plain": [
       "'OpPt'"
      ]
     },
     "execution_count": 10,
     "metadata": {},
     "output_type": "execute_result"
    }
   ],
   "source": [
    "skippy.attrs[22][0]"
   ]
  },
  {
   "cell_type": "code",
   "execution_count": 37,
   "metadata": {
    "collapsed": false
   },
   "outputs": [
    {
     "data": {
      "text/plain": [
       "'OpPt+50'"
      ]
     },
     "execution_count": 37,
     "metadata": {},
     "output_type": "execute_result"
    }
   ],
   "source": [
    "Q[22][0]"
   ]
  },
  {
   "cell_type": "code",
   "execution_count": 33,
   "metadata": {
    "collapsed": false
   },
   "outputs": [
    {
     "data": {
      "text/plain": [
       "<\n",
       "OpPt+50\n",
       ">"
      ]
     },
     "execution_count": 33,
     "metadata": {},
     "output_type": "execute_result"
    }
   ],
   "source": [
    "w"
   ]
  },
  {
   "cell_type": "code",
   "execution_count": 16,
   "metadata": {
    "collapsed": false
   },
   "outputs": [
    {
     "data": {
      "text/plain": [
       "array([ 0.42300001,  0.63599998,  0.84299999,  1.04100001,  1.23599994,\n",
       "        1.42499995,  1.60800004,  1.78799999,  1.95899999,  2.12400007,\n",
       "        2.27999997,  2.42700005,  2.54999995,  2.66700006,  2.79900002,\n",
       "        2.99399996,  0.42300001], dtype=float32)"
      ]
     },
     "execution_count": 16,
     "metadata": {},
     "output_type": "execute_result"
    }
   ],
   "source": [
    "ThrshV[0:17]"
   ]
  },
  {
   "cell_type": "code",
   "execution_count": 15,
   "metadata": {
    "collapsed": false
   },
   "outputs": [
    {
     "data": {
      "text/plain": [
       "array([ 0.42300001,  0.63599998,  0.84299999, ...,  2.66700006,\n",
       "        2.79900002,  2.99399996], dtype=float32)"
      ]
     },
     "execution_count": 15,
     "metadata": {},
     "output_type": "execute_result"
    }
   ],
   "source": [
    "ThrshV_sweep = "
   ]
  },
  {
   "cell_type": "code",
   "execution_count": 4,
   "metadata": {
    "collapsed": false
   },
   "outputs": [
    {
     "data": {
      "text/plain": [
       "u'C:\\\\Users\\\\cschiff\\\\Python'"
      ]
     },
     "execution_count": 4,
     "metadata": {},
     "output_type": "execute_result"
    }
   ],
   "source": [
    "pwd"
   ]
  },
  {
   "cell_type": "code",
   "execution_count": 4,
   "metadata": {
    "collapsed": false
   },
   "outputs": [
    {
     "data": {
      "text/plain": [
       "('mms2', 'des1')"
      ]
     },
     "execution_count": 4,
     "metadata": {},
     "output_type": "execute_result"
    }
   ],
   "source": [
    "serial_num_to_sc('FM204')"
   ]
  },
  {
   "cell_type": "code",
   "execution_count": null,
   "metadata": {
    "collapsed": true
   },
   "outputs": [],
   "source": [
    "find_oppt_CDFs"
   ]
  }
 ],
 "metadata": {
  "kernelspec": {
   "display_name": "Python 2",
   "language": "python",
   "name": "python2"
  },
  "language_info": {
   "codemirror_mode": {
    "name": "ipython",
    "version": 2
   },
   "file_extension": ".py",
   "mimetype": "text/x-python",
   "name": "python",
   "nbconvert_exporter": "python",
   "pygments_lexer": "ipython2",
   "version": "2.7.12"
  }
 },
 "nbformat": 4,
 "nbformat_minor": 0
}
